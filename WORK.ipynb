{
 "cells": [
  {
   "cell_type": "code",
   "execution_count": 1,
   "id": "6a7e8f12-92a7-4e72-9fb6-147575f42f94",
   "metadata": {},
   "outputs": [
    {
     "data": {
      "text/plain": [
       "[{'name': 'john doe',\n",
       "  'email': 'JOHN@example.com',\n",
       "  'phone_number': '123-456-7890',\n",
       "  'address': '123 Main St, New York, NY 10001'},\n",
       " {'name': 'jane smith',\n",
       "  'email': 'Jane.Smith@Email.com',\n",
       "  'phone_number': '(123) 456 7890',\n",
       "  'address': '456 Elm St, Los Angeles, CA 90001'},\n",
       " {'name': 'john doe',\n",
       "  'email': 'john@example.com',\n",
       "  'phone_number': '1234567890',\n",
       "  'address': '123 Main St, New York, NY 10001'},\n",
       " {'name': 'under taker',\n",
       "  'email': 'under@example.com',\n",
       "  'phone_number': '1234561236',\n",
       "  'address': '623 Main St, Few York, FY 21001'},\n",
       " {'name': 'cm punk',\n",
       "  'email': 'cm@gmail.com',\n",
       "  'phone_number': '7890567890',\n",
       "  'address': '423 Main St, New WORK, NW 10101'},\n",
       " {'name': 'brock lesner',\n",
       "  'email': 'brock@example.com',\n",
       "  'phone_number': '1234576890',\n",
       "  'address': '113 Main St, New Jersey, NJ 10051'},\n",
       " {'name': 'seth rollins',\n",
       "  'email': 'seth@example.com',\n",
       "  'phone_number': '1234567811',\n",
       "  'address': '123 Main St, Suplex, SU 60001'},\n",
       " {'name': 'seth rollins',\n",
       "  'email': 'seth@example.com',\n",
       "  'phone_number': '1234567811',\n",
       "  'address': '123 Main St, Suplex, SU 60001'},\n",
       " {'name': 'nikki bella',\n",
       "  'email': 'nikki@example.com',\n",
       "  'phone_number': '9934567890',\n",
       "  'address': '123 Main St, Los Angeles, LA 10006'},\n",
       " {'name': 'nikki bella',\n",
       "  'email': 'nikkib@example.com',\n",
       "  'phone_number': '9934568890',\n",
       "  'address': '123 Main St, Los Angeles, LA 10006'}]"
      ]
     },
     "execution_count": 1,
     "metadata": {},
     "output_type": "execute_result"
    }
   ],
   "source": [
    "import json\n",
    "\n",
    "data = [\n",
    "    {\"name\": \"john doe\", \"email\": \"JOHN@example.com\", \"phone_number\": \"123-456-7890\", \"address\": \"123 Main St, New York, NY 10001\"},\n",
    "    {\"name\": \"jane smith\", \"email\": \"Jane.Smith@Email.com\", \"phone_number\": \"(123) 456 7890\", \"address\": \"456 Elm St, Los Angeles, CA 90001\"},\n",
    "    {\"name\": \"john doe\", \"email\": \"john@example.com\", \"phone_number\": \"1234567890\", \"address\": \"123 Main St, New York, NY 10001\"},\n",
    "    {\"name\": \"under taker\", \"email\": \"under@example.com\", \"phone_number\": \"1234561236\", \"address\": \"623 Main St, Few York, FY 21001\"},\n",
    "    {\"name\": \"cm punk\", \"email\": \"cm@gmail.com\", \"phone_number\": \"7890567890\", \"address\": \"423 Main St, New WORK, NW 10101\"},\n",
    "    {\"name\": \"brock lesner\", \"email\": \"brock@example.com\", \"phone_number\": \"1234576890\", \"address\": \"113 Main St, New Jersey, NJ 10051\"},\n",
    "    {\"name\": \"seth rollins\", \"email\": \"seth@example.com\", \"phone_number\": \"1234567811\", \"address\": \"123 Main St, Suplex, SU 60001\"},\n",
    "    {\"name\": \"seth rollins\", \"email\": \"seth@example.com\", \"phone_number\": \"1234567811\", \"address\": \"123 Main St, Suplex, SU 60001\"},\n",
    "    {\"name\": \"nikki bella\", \"email\": \"nikki@example.com\", \"phone_number\": \"9934567890\", \"address\": \"123 Main St, Los Angeles, LA 10006\"},\n",
    "    {\"name\": \"nikki bella\", \"email\": \"nikkib@example.com\", \"phone_number\": \"9934568890\", \"address\": \"123 Main St, Los Angeles, LA 10006\"}\n",
    "    \n",
    "]\n",
    "with open ('data.json','w') as json_file:\n",
    "    json.dump(data,json_file)\n",
    "data"
   ]
  },
  {
   "cell_type": "code",
   "execution_count": 3,
   "id": "88d9637e-8bcd-449d-bbad-eb7cb39987e2",
   "metadata": {},
   "outputs": [
    {
     "data": {
      "text/plain": [
       "[{'name': 'john doe',\n",
       "  'email': 'JOHN@example.com',\n",
       "  'phone_number': '123-456-7890',\n",
       "  'address': '123 Main St, New York, NY 10001'},\n",
       " {'name': 'jane smith',\n",
       "  'email': 'Jane.Smith@Email.com',\n",
       "  'phone_number': '(123) 456 7890',\n",
       "  'address': '456 Elm St, Los Angeles, CA 90001'},\n",
       " {'name': 'john doe',\n",
       "  'email': 'john@example.com',\n",
       "  'phone_number': '1234567890',\n",
       "  'address': '123 Main St, New York, NY 10001'},\n",
       " {'name': 'under taker',\n",
       "  'email': 'under@example.com',\n",
       "  'phone_number': '1234561236',\n",
       "  'address': '623 Main St, Few York, FY 21001'},\n",
       " {'name': 'cm punk',\n",
       "  'email': 'cm@gmail.com',\n",
       "  'phone_number': '7890567890',\n",
       "  'address': '423 Main St, New WORK, NW 10101'},\n",
       " {'name': 'brock lesner',\n",
       "  'email': 'brock@example.com',\n",
       "  'phone_number': '1234576890',\n",
       "  'address': '113 Main St, New Jersey, NJ 10051'},\n",
       " {'name': 'seth rollins',\n",
       "  'email': 'seth@example.com',\n",
       "  'phone_number': '1234567811',\n",
       "  'address': '123 Main St, Suplex, SU 60001'},\n",
       " {'name': 'seth rollins',\n",
       "  'email': 'seth@example.com',\n",
       "  'phone_number': '1234567811',\n",
       "  'address': '123 Main St, Suplex, SU 60001'},\n",
       " {'name': 'nikki bella',\n",
       "  'email': 'nikki@example.com',\n",
       "  'phone_number': '9934567890',\n",
       "  'address': '123 Main St, Los Angeles, LA 10006'},\n",
       " {'name': 'nikki bella',\n",
       "  'email': 'nikkib@example.com',\n",
       "  'phone_number': '9934568890',\n",
       "  'address': '123 Main St, Los Angeles, LA 10006'}]"
      ]
     },
     "execution_count": 3,
     "metadata": {},
     "output_type": "execute_result"
    }
   ],
   "source": [
    "with open('data.json','r') as file:\n",
    "    data=json.load(file)\n",
    "data"
   ]
  },
  {
   "cell_type": "code",
   "execution_count": 4,
   "id": "e9b6ad70-92ca-4f60-855e-45428421ad27",
   "metadata": {},
   "outputs": [
    {
     "data": {
      "text/plain": [
       "[{'name': 'John Doe',\n",
       "  'email': 'john@example.com',\n",
       "  'phone_number': '123-456-7890',\n",
       "  'address': '123 Main St, New York, NY 10001'},\n",
       " {'name': 'Jane Smith',\n",
       "  'email': 'jane.smith@email.com',\n",
       "  'phone_number': '(123) 456 7890',\n",
       "  'address': '456 Elm St, Los Angeles, CA 90001'},\n",
       " {'name': 'John Doe',\n",
       "  'email': 'john@example.com',\n",
       "  'phone_number': '1234567890',\n",
       "  'address': '123 Main St, New York, NY 10001'},\n",
       " {'name': 'Under Taker',\n",
       "  'email': 'under@example.com',\n",
       "  'phone_number': '1234561236',\n",
       "  'address': '623 Main St, Few York, FY 21001'},\n",
       " {'name': 'Cm Punk',\n",
       "  'email': 'cm@gmail.com',\n",
       "  'phone_number': '7890567890',\n",
       "  'address': '423 Main St, New WORK, NW 10101'},\n",
       " {'name': 'Brock Lesner',\n",
       "  'email': 'brock@example.com',\n",
       "  'phone_number': '1234576890',\n",
       "  'address': '113 Main St, New Jersey, NJ 10051'},\n",
       " {'name': 'Seth Rollins',\n",
       "  'email': 'seth@example.com',\n",
       "  'phone_number': '1234567811',\n",
       "  'address': '123 Main St, Suplex, SU 60001'},\n",
       " {'name': 'Seth Rollins',\n",
       "  'email': 'seth@example.com',\n",
       "  'phone_number': '1234567811',\n",
       "  'address': '123 Main St, Suplex, SU 60001'},\n",
       " {'name': 'Nikki Bella',\n",
       "  'email': 'nikki@example.com',\n",
       "  'phone_number': '9934567890',\n",
       "  'address': '123 Main St, Los Angeles, LA 10006'},\n",
       " {'name': 'Nikki Bella',\n",
       "  'email': 'nikkib@example.com',\n",
       "  'phone_number': '9934568890',\n",
       "  'address': '123 Main St, Los Angeles, LA 10006'}]"
      ]
     },
     "execution_count": 4,
     "metadata": {},
     "output_type": "execute_result"
    }
   ],
   "source": [
    "for i in data:\n",
    "    i['name']=i['name'].title()\n",
    "for i in data:\n",
    "    i['email']=i['email'].lower()\n",
    "data"
   ]
  },
  {
   "cell_type": "code",
   "execution_count": 7,
   "id": "8cb4777a-41bd-4528-905c-26be8fabacc2",
   "metadata": {},
   "outputs": [
    {
     "data": {
      "text/plain": [
       "[{'name': 'John Doe',\n",
       "  'email': 'john@example.com',\n",
       "  'phone_number': '(123) 456-7890',\n",
       "  'address': '123 Main St, New York, NY 10001'},\n",
       " {'name': 'Jane Smith',\n",
       "  'email': 'jane.smith@email.com',\n",
       "  'phone_number': '(123) 456-7890',\n",
       "  'address': '456 Elm St, Los Angeles, CA 90001'},\n",
       " {'name': 'John Doe',\n",
       "  'email': 'john@example.com',\n",
       "  'phone_number': '(123) 456-7890',\n",
       "  'address': '123 Main St, New York, NY 10001'},\n",
       " {'name': 'Under Taker',\n",
       "  'email': 'under@example.com',\n",
       "  'phone_number': '(123) 456-1236',\n",
       "  'address': '623 Main St, Few York, FY 21001'},\n",
       " {'name': 'Cm Punk',\n",
       "  'email': 'cm@gmail.com',\n",
       "  'phone_number': '(789) 056-7890',\n",
       "  'address': '423 Main St, New WORK, NW 10101'},\n",
       " {'name': 'Brock Lesner',\n",
       "  'email': 'brock@example.com',\n",
       "  'phone_number': '(123) 457-6890',\n",
       "  'address': '113 Main St, New Jersey, NJ 10051'},\n",
       " {'name': 'Seth Rollins',\n",
       "  'email': 'seth@example.com',\n",
       "  'phone_number': '(123) 456-7811',\n",
       "  'address': '123 Main St, Suplex, SU 60001'},\n",
       " {'name': 'Seth Rollins',\n",
       "  'email': 'seth@example.com',\n",
       "  'phone_number': '(123) 456-7811',\n",
       "  'address': '123 Main St, Suplex, SU 60001'},\n",
       " {'name': 'Nikki Bella',\n",
       "  'email': 'nikki@example.com',\n",
       "  'phone_number': '(993) 456-7890',\n",
       "  'address': '123 Main St, Los Angeles, LA 10006'},\n",
       " {'name': 'Nikki Bella',\n",
       "  'email': 'nikkib@example.com',\n",
       "  'phone_number': '(993) 456-8890',\n",
       "  'address': '123 Main St, Los Angeles, LA 10006'}]"
      ]
     },
     "execution_count": 7,
     "metadata": {},
     "output_type": "execute_result"
    }
   ],
   "source": [
    "import re\n",
    "def num_format(phone):\n",
    "    digits=re.sub(r'\\D', '',phone)\n",
    "    return f\"({digits[:3]}) {digits[3:6]}-{digits[6:]}\"\n",
    "for i in data:\n",
    "    i['phone_number'] = num_format(i['phone_number'])\n",
    "data"
   ]
  },
  {
   "cell_type": "code",
   "execution_count": 9,
   "id": "cbaf9a43-6938-4baa-8cee-f362b2af5005",
   "metadata": {},
   "outputs": [
    {
     "data": {
      "text/plain": [
       "[{'name': 'John Doe',\n",
       "  'email': 'john@example.com',\n",
       "  'phone_number': '(123) 456-7890',\n",
       "  'address': '123 Main St, New York, NY 10001'},\n",
       " {'name': 'Jane Smith',\n",
       "  'email': 'jane.smith@email.com',\n",
       "  'phone_number': '(123) 456-7890',\n",
       "  'address': '456 Elm St, Los Angeles, CA 90001'},\n",
       " {'name': 'Under Taker',\n",
       "  'email': 'under@example.com',\n",
       "  'phone_number': '(123) 456-1236',\n",
       "  'address': '623 Main St, Few York, FY 21001'},\n",
       " {'name': 'Cm Punk',\n",
       "  'email': 'cm@gmail.com',\n",
       "  'phone_number': '(789) 056-7890',\n",
       "  'address': '423 Main St, New WORK, NW 10101'},\n",
       " {'name': 'Brock Lesner',\n",
       "  'email': 'brock@example.com',\n",
       "  'phone_number': '(123) 457-6890',\n",
       "  'address': '113 Main St, New Jersey, NJ 10051'},\n",
       " {'name': 'Seth Rollins',\n",
       "  'email': 'seth@example.com',\n",
       "  'phone_number': '(123) 456-7811',\n",
       "  'address': '123 Main St, Suplex, SU 60001'},\n",
       " {'name': 'Nikki Bella',\n",
       "  'email': 'nikki@example.com',\n",
       "  'phone_number': '(993) 456-7890',\n",
       "  'address': '123 Main St, Los Angeles, LA 10006'},\n",
       " {'name': 'Nikki Bella',\n",
       "  'email': 'nikkib@example.com',\n",
       "  'phone_number': '(993) 456-8890',\n",
       "  'address': '123 Main St, Los Angeles, LA 10006'}]"
      ]
     },
     "execution_count": 9,
     "metadata": {},
     "output_type": "execute_result"
    }
   ],
   "source": [
    "unique_data = list({frozenset(i.items()) : i for i in data}.values())\n",
    "unique_data"
   ]
  },
  {
   "cell_type": "code",
   "execution_count": 11,
   "id": "9b898f2c-06fe-48e2-b123-7d6c3fc1b816",
   "metadata": {},
   "outputs": [
    {
     "data": {
      "text/plain": [
       "[{'name': 'John Doe',\n",
       "  'email': 'john@example.com',\n",
       "  'phone_number': '(123) 456-7890',\n",
       "  'address': ['123 Main St', 'New York', 'NY', '10001'],\n",
       "  'state_abbreviation': 'LA'},\n",
       " {'name': 'Jane Smith',\n",
       "  'email': 'jane.smith@email.com',\n",
       "  'phone_number': '(123) 456-7890',\n",
       "  'address': ['456 Elm St', 'Los Angeles', 'CA', '90001'],\n",
       "  'state_abbreviation': 'LA'},\n",
       " {'name': 'Under Taker',\n",
       "  'email': 'under@example.com',\n",
       "  'phone_number': '(123) 456-1236',\n",
       "  'address': ['623 Main St', 'Few York', 'FY', '21001'],\n",
       "  'state_abbreviation': 'LA'},\n",
       " {'name': 'Cm Punk',\n",
       "  'email': 'cm@gmail.com',\n",
       "  'phone_number': '(789) 056-7890',\n",
       "  'address': ['423 Main St', 'New WORK', 'NW', '10101'],\n",
       "  'state_abbreviation': 'LA'},\n",
       " {'name': 'Brock Lesner',\n",
       "  'email': 'brock@example.com',\n",
       "  'phone_number': '(123) 457-6890',\n",
       "  'address': ['113 Main St', 'New Jersey', 'NJ', '10051'],\n",
       "  'state_abbreviation': 'LA'},\n",
       " {'name': 'Seth Rollins',\n",
       "  'email': 'seth@example.com',\n",
       "  'phone_number': '(123) 456-7811',\n",
       "  'address': ['123 Main St', 'Suplex', 'SU', '60001'],\n",
       "  'state_abbreviation': 'LA'},\n",
       " {'name': 'Nikki Bella',\n",
       "  'email': 'nikki@example.com',\n",
       "  'phone_number': '(993) 456-7890',\n",
       "  'address': ['123 Main St', 'Los Angeles', 'LA', '10006'],\n",
       "  'state_abbreviation': 'LA'},\n",
       " {'name': 'Nikki Bella',\n",
       "  'email': 'nikkib@example.com',\n",
       "  'phone_number': '(993) 456-8890',\n",
       "  'address': ['123 Main St', 'Los Angeles', 'LA', '10006'],\n",
       "  'state_abbreviation': 'LA'}]"
      ]
     },
     "execution_count": 11,
     "metadata": {},
     "output_type": "execute_result"
    }
   ],
   "source": [
    "for i in unique_data:\n",
    "    add = str(i['address']).split(',')\n",
    "    street = add[0].strip()\n",
    "    city = add[1].strip()\n",
    "    state_zip = add[2].strip().split(' ')\n",
    "    state = state_zip[0]\n",
    "    zip_code = state_zip[1]\n",
    "   \n",
    "    i['address'] = [street, city, state, zip_code]\n",
    " \n",
    "for i in unique_data:\n",
    "    state_zip = add[2].strip().split(' ')\n",
    "    state_abbreviation = state_zip[0]\n",
    "    zip_code = state_zip[1]\n",
    "    i['state_abbreviation'] = state_abbreviation\n",
    "unique_data"
   ]
  },
  {
   "cell_type": "code",
   "execution_count": 18,
   "id": "82d8c7fb-db65-4555-981b-72895365ddb2",
   "metadata": {},
   "outputs": [
    {
     "data": {
      "text/plain": [
       "[{'name': 'John Doe',\n",
       "  'email': 'john@example.com',\n",
       "  'phone_number': '(123) 456-7890',\n",
       "  'address': '123 Main St, New York, NY 10001'},\n",
       " {'name': 'Jane Smith',\n",
       "  'email': 'jane.smith@email.com',\n",
       "  'phone_number': '(123) 456-7890',\n",
       "  'address': ['456 Elm St', 'Los Angeles', 'CA', '90001'],\n",
       "  'state_abbreviation': 'LA'},\n",
       " {'name': 'John Doe',\n",
       "  'email': 'john@example.com',\n",
       "  'phone_number': '(123) 456-7890',\n",
       "  'address': ['123 Main St', 'New York', 'NY', '10001'],\n",
       "  'state_abbreviation': 'LA'},\n",
       " {'name': 'Under Taker',\n",
       "  'email': 'under@example.com',\n",
       "  'phone_number': '(123) 456-1236',\n",
       "  'address': ['623 Main St', 'Few York', 'FY', '21001'],\n",
       "  'state_abbreviation': 'LA'},\n",
       " {'name': 'Cm Punk',\n",
       "  'email': 'cm@gmail.com',\n",
       "  'phone_number': '(789) 056-7890',\n",
       "  'address': ['423 Main St', 'New WORK', 'NW', '10101'],\n",
       "  'state_abbreviation': 'LA'},\n",
       " {'name': 'Brock Lesner',\n",
       "  'email': 'brock@example.com',\n",
       "  'phone_number': '(123) 457-6890',\n",
       "  'address': ['113 Main St', 'New Jersey', 'NJ', '10051'],\n",
       "  'state_abbreviation': 'LA'},\n",
       " {'name': 'Seth Rollins',\n",
       "  'email': 'seth@example.com',\n",
       "  'phone_number': '(123) 456-7811',\n",
       "  'address': '123 Main St, Suplex, SU 60001'},\n",
       " {'name': 'Seth Rollins',\n",
       "  'email': 'seth@example.com',\n",
       "  'phone_number': '(123) 456-7811',\n",
       "  'address': ['123 Main St', 'Suplex', 'SU', '60001'],\n",
       "  'state_abbreviation': 'LA'},\n",
       " {'name': 'Nikki Bella',\n",
       "  'email': 'nikki@example.com',\n",
       "  'phone_number': '(993) 456-7890',\n",
       "  'address': ['123 Main St', 'Los Angeles', 'LA', '10006'],\n",
       "  'state_abbreviation': 'LA'},\n",
       " {'name': 'Nikki Bella',\n",
       "  'email': 'nikkib@example.com',\n",
       "  'phone_number': '(993) 456-8890',\n",
       "  'address': ['123 Main St', 'Los Angeles', 'LA', '10006'],\n",
       "  'state_abbreviation': 'LA'}]"
      ]
     },
     "execution_count": 18,
     "metadata": {},
     "output_type": "execute_result"
    }
   ],
   "source": [
    "with open(\"data.json\",\"w\") as outfile:\n",
    "  json.dump(data,outfile)"
   ]
  },
  {
   "cell_type": "code",
   "execution_count": null,
   "id": "31d83189-b6a2-417d-a455-ffdf9c68cfa9",
   "metadata": {},
   "outputs": [],
   "source": []
  }
 ],
 "metadata": {
  "kernelspec": {
   "display_name": "Python 3 (ipykernel)",
   "language": "python",
   "name": "python3"
  },
  "language_info": {
   "codemirror_mode": {
    "name": "ipython",
    "version": 3
   },
   "file_extension": ".py",
   "mimetype": "text/x-python",
   "name": "python",
   "nbconvert_exporter": "python",
   "pygments_lexer": "ipython3",
   "version": "3.12.4"
  }
 },
 "nbformat": 4,
 "nbformat_minor": 5
}
